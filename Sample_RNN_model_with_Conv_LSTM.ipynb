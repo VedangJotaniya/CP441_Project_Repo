{
  "nbformat": 4,
  "nbformat_minor": 0,
  "metadata": {
    "colab": {
      "name": "Untitled1.ipynb",
      "provenance": [],
      "collapsed_sections": [],
      "authorship_tag": "ABX9TyOfgYxO6Su4WewUf/AHPA/Q",
      "include_colab_link": true
    },
    "kernelspec": {
      "name": "python3",
      "display_name": "Python 3"
    }
  },
  "cells": [
    {
      "cell_type": "markdown",
      "metadata": {
        "id": "view-in-github",
        "colab_type": "text"
      },
      "source": [
        "<a href=\"https://colab.research.google.com/github/VedangJotaniya/CP441_Project_Repo/blob/gh-pages/Sample_RNN_model_with_Conv_LSTM.ipynb\" target=\"_parent\"><img src=\"https://colab.research.google.com/assets/colab-badge.svg\" alt=\"Open In Colab\"/></a>"
      ]
    },
    {
      "cell_type": "code",
      "metadata": {
        "id": "5XlrhYJDghrW"
      },
      "source": [
        "import numpy\n",
        "import cv2\n",
        "from glob import glob\n",
        "import argparse\n",
        "from google.colab.patches import cv2_imshow\n",
        "\n",
        "# from tensorflow.keras.applications.resnet50 import ResNet50\n",
        "\n",
        "from tensorflow.keras.layers import Flatten, Dense, Dropout, Input\n",
        "\n",
        "from tensorflow.keras.models import Sequential, Model\n",
        "from keras.layers import Conv2D, ZeroPadding2D, Activation, Input, concatenate, TimeDistributed, LSTM\n",
        "from keras.layers.normalization import BatchNormalization\n",
        "from keras.layers.pooling import MaxPooling2D, AveragePooling2D\n",
        "from keras.layers.merge import Concatenate\n",
        "from keras.layers.core import Lambda, Flatten, Dense\n",
        "\n"
      ],
      "execution_count": 26,
      "outputs": []
    },
    {
      "cell_type": "code",
      "metadata": {
        "id": "HPYMuBmtgpQy",
        "outputId": "06cc4990-2c06-466d-c10b-4bfd8464afa8",
        "colab": {
          "base_uri": "https://localhost:8080/",
          "height": 348
        }
      },
      "source": [
        "\n",
        "model = Sequential()\n",
        "\n",
        "model.add(Input(shape=(224,224,3)))\n",
        "model.add(Conv2D(32, (32,32)))\n",
        "#model.add(BatchNormalization(axis=3))\n",
        "model.add(Activation('relu'))\n",
        "model.add(MaxPooling2D((4, 4)))\n",
        "model.add(Flatten())\n",
        "model.add(Dense(10, activation='sigmoid'))\n",
        "\n",
        "model.compile(optimizer='adam', loss='binary_crossentropy', metrics=['accuracy'])\n",
        "\n",
        "\n",
        "\n",
        "model.summary()\n"
      ],
      "execution_count": 19,
      "outputs": [
        {
          "output_type": "stream",
          "text": [
            "Model: \"sequential_3\"\n",
            "_________________________________________________________________\n",
            "Layer (type)                 Output Shape              Param #   \n",
            "=================================================================\n",
            "conv2d_3 (Conv2D)            (None, 193, 193, 32)      98336     \n",
            "_________________________________________________________________\n",
            "activation_3 (Activation)    (None, 193, 193, 32)      0         \n",
            "_________________________________________________________________\n",
            "max_pooling2d_3 (MaxPooling2 (None, 48, 48, 32)        0         \n",
            "_________________________________________________________________\n",
            "flatten_3 (Flatten)          (None, 73728)             0         \n",
            "_________________________________________________________________\n",
            "dense_3 (Dense)              (None, 10)                737290    \n",
            "=================================================================\n",
            "Total params: 835,626\n",
            "Trainable params: 835,626\n",
            "Non-trainable params: 0\n",
            "_________________________________________________________________\n"
          ],
          "name": "stdout"
        }
      ]
    },
    {
      "cell_type": "code",
      "metadata": {
        "id": "88w-uXhABcSo"
      },
      "source": [
        "img1 = numpy.zeros((224,224,3))\n",
        "\n",
        "sample = numpy.array([img1])"
      ],
      "execution_count": 23,
      "outputs": []
    },
    {
      "cell_type": "code",
      "metadata": {
        "id": "9DaMJ_s5BcIz",
        "outputId": "c90b2849-761e-4713-b3e8-0f77c96bfc9a",
        "colab": {
          "base_uri": "https://localhost:8080/",
          "height": 35
        }
      },
      "source": [
        "prediction = model.predict(sample)\n",
        "print(prediction)"
      ],
      "execution_count": 24,
      "outputs": [
        {
          "output_type": "stream",
          "text": [
            "[[0.5 0.5 0.5 0.5 0.5 0.5 0.5 0.5 0.5 0.5]]\n"
          ],
          "name": "stdout"
        }
      ]
    },
    {
      "cell_type": "code",
      "metadata": {
        "id": "ONOCTykUBcD8",
        "outputId": "5ff663c0-c0b1-4437-dbd2-f237cd1f5abe",
        "colab": {
          "base_uri": "https://localhost:8080/",
          "height": 421
        }
      },
      "source": [
        "rmodel = Sequential()\n",
        "\n",
        "rmodel.add(Input(shape=(3, 224,224,3)))\n",
        "rmodel.add(TimeDistributed(Conv2D(32, (32,32))))\n",
        "#model.add(BatchNormalization(axis=3))\n",
        "rmodel.add(TimeDistributed(Activation('relu')))\n",
        "rmodel.add(TimeDistributed(MaxPooling2D((4, 4))))\n",
        "rmodel.add(TimeDistributed(Flatten()))\n",
        "rmodel.add(TimeDistributed(Dense(10, activation='sigmoid')))\n",
        "rmodel.add(LSTM(10, return_sequences=False))\n",
        "rmodel.add(Dense(5, activation='sigmoid'))\n",
        "\n",
        "\n",
        "rmodel.compile(optimizer='adam', loss='binary_crossentropy', metrics=['accuracy'])\n",
        "\n",
        "\n",
        "rmodel.summary()\n"
      ],
      "execution_count": 31,
      "outputs": [
        {
          "output_type": "stream",
          "text": [
            "Model: \"sequential_6\"\n",
            "_________________________________________________________________\n",
            "Layer (type)                 Output Shape              Param #   \n",
            "=================================================================\n",
            "time_distributed_5 (TimeDist (None, 3, 193, 193, 32)   98336     \n",
            "_________________________________________________________________\n",
            "time_distributed_6 (TimeDist (None, 3, 193, 193, 32)   0         \n",
            "_________________________________________________________________\n",
            "time_distributed_7 (TimeDist (None, 3, 48, 48, 32)     0         \n",
            "_________________________________________________________________\n",
            "time_distributed_8 (TimeDist (None, 3, 73728)          0         \n",
            "_________________________________________________________________\n",
            "time_distributed_9 (TimeDist (None, 3, 10)             737290    \n",
            "_________________________________________________________________\n",
            "lstm_1 (LSTM)                (None, 10)                840       \n",
            "_________________________________________________________________\n",
            "dense_7 (Dense)              (None, 5)                 55        \n",
            "=================================================================\n",
            "Total params: 836,521\n",
            "Trainable params: 836,521\n",
            "Non-trainable params: 0\n",
            "_________________________________________________________________\n"
          ],
          "name": "stdout"
        }
      ]
    },
    {
      "cell_type": "code",
      "metadata": {
        "id": "Dg_XVpn9BcAS",
        "outputId": "fe0fa5a7-d022-4c3b-9047-0f9ee995c9ab",
        "colab": {
          "base_uri": "https://localhost:8080/",
          "height": 54
        }
      },
      "source": [
        "sample2 = numpy.array([[img1, img1, img1]])\n",
        "print(sample2.shape)\n",
        "\n",
        "pred2 = rmodel.predict(sample2)\n",
        "print(pred2)\n"
      ],
      "execution_count": 34,
      "outputs": [
        {
          "output_type": "stream",
          "text": [
            "(1, 3, 224, 224, 3)\n",
            "[[0.45549873 0.4325986  0.46423087 0.45860043 0.4376585 ]]\n"
          ],
          "name": "stdout"
        }
      ]
    },
    {
      "cell_type": "code",
      "metadata": {
        "id": "cGiTs5kMgpDz"
      },
      "source": [
        "from numpy import array\n",
        "seq = array([ 0.0, 0.2, 0.4, 0.6, 0.8])\n"
      ],
      "execution_count": 5,
      "outputs": []
    },
    {
      "cell_type": "code",
      "metadata": {
        "id": "Di2h9McJ8vs2",
        "outputId": "705851cd-8718-463d-a2e3-7827373d448b",
        "colab": {
          "base_uri": "https://localhost:8080/",
          "height": 146
        }
      },
      "source": [
        "print(seq.shape)\n",
        "X = seq.reshape(1,5,1)\n",
        "print(X)\n",
        "y = seq.reshape(1,5)\n",
        "print(y)\n",
        "\n"
      ],
      "execution_count": 7,
      "outputs": [
        {
          "output_type": "stream",
          "text": [
            "(5,)\n",
            "[[[0. ]\n",
            "  [0.2]\n",
            "  [0.4]\n",
            "  [0.6]\n",
            "  [0.8]]]\n",
            "[[0.  0.2 0.4 0.6 0.8]]\n"
          ],
          "name": "stdout"
        }
      ]
    }
  ]
}